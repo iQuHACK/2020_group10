{
 "cells": [
  {
   "cell_type": "code",
   "execution_count": 1,
   "metadata": {},
   "outputs": [],
   "source": [
    "from qiskit.chemistry import QiskitChemistry\n",
    "from qiskit import Aer\n",
    "from qiskit.aqua import QuantumInstance\n",
    "from qiskit.ignis.mitigation.measurement import CompleteMeasFitter"
   ]
  },
  {
   "cell_type": "code",
   "execution_count": 2,
   "metadata": {},
   "outputs": [],
   "source": [
    "from qiskit import Aer\n",
    "backend = Aer.get_backend('statevector_simulator')"
   ]
  },
  {
   "cell_type": "code",
   "execution_count": 52,
   "metadata": {},
   "outputs": [],
   "source": [
    "from qiskit import Aer, IBMQ, execute\n",
    "from qiskit.providers.aer import noise\n",
    "from qiskit import QuantumCircuit, QuantumRegister, ClassicalRegister\n",
    "from qiskit.tools.visualization import plot_histogram\n",
    "from qiskit.tools.monitor import job_monitor\n",
    "\n",
    "import matplotlib.pyplot as plt\n",
    "import seaborn as sns"
   ]
  },
  {
   "cell_type": "code",
   "execution_count": 4,
   "metadata": {},
   "outputs": [],
   "source": [
    "from qiskit.aqua.algorithms import VQE, ExactEigensolver\n",
    "import matplotlib.pyplot as plt\n",
    "%matplotlib inline\n",
    "import numpy as np\n",
    "from qiskit.chemistry.components.variational_forms import UCCSD\n",
    "from qiskit.chemistry.components.initial_states import HartreeFock\n",
    "from qiskit.aqua.components.variational_forms import RYRZ\n",
    "from qiskit.aqua.components.optimizers import COBYLA, SPSA, SLSQP\n",
    "from qiskit.aqua.operators import Z2Symmetries\n",
    "from qiskit import IBMQ, BasicAer, Aer\n",
    "from qiskit.chemistry.drivers import PySCFDriver, UnitsType\n",
    "from qiskit.chemistry import FermionicOperator\n",
    "from qiskit import IBMQ\n",
    "from qiskit.providers.aer import noise\n",
    "from qiskit.aqua import QuantumInstance\n",
    "from qiskit.ignis.mitigation.measurement import CompleteMeasFitter"
   ]
  },
  {
   "cell_type": "code",
   "execution_count": 40,
   "metadata": {},
   "outputs": [],
   "source": [
    "from qiskit.chemistry import FermionicOperator\n",
    "from qiskit.chemistry.drivers import PySCFDriver, UnitsType\n",
    "from qiskit.aqua.operators import Z2Symmetries\n",
    "\n",
    "# Use PySCF, a classical computational chemistry software\n",
    "# package, to compute the one-body and two-body integrals in\n",
    "# molecular-orbital basis, necessary to form the Fermionic operator\n",
    "\n",
    "\n",
    "### Used basis sets sto-3g, sto-6g and a custom made basis set with 4 primitives, based on the sto-3g model.\n",
    "driver_1 = PySCFDriver(\n",
    "    atom='H .0 .0 .0; H .0 .0 0.735',\n",
    "#     atom='Be .0 .0 .0',\n",
    "    unit=UnitsType.ANGSTROM,\n",
    "    basis='sto-6g'\n",
    ")\n",
    "\n",
    "molecule1 = driver_1.run()\n",
    "\n",
    "num_particles = molecule1.num_alpha + molecule1.num_beta\n",
    "num_spin_orbitals = molecule1.num_orbitals * 2\n",
    "\n",
    "# Build the qubit operator, which is the input to the VQE algorithm in Aqua\n",
    "ferm_op = FermionicOperator(h1=molecule1.one_body_integrals, h2=molecule1.two_body_integrals)\n",
    "map_type = 'PARITY'\n",
    "qubit_op = ferm_op.mapping(map_type)\n",
    "qubit_op = Z2Symmetries.two_qubit_reduction(qubit_op, num_particles)\n",
    "\n",
    "num_qubits = qubit_op.num_qubits"
   ]
  },
  {
   "cell_type": "code",
   "execution_count": 41,
   "metadata": {},
   "outputs": [
    {
     "data": {
      "text/plain": [
       "2"
      ]
     },
     "execution_count": 41,
     "metadata": {},
     "output_type": "execute_result"
    }
   ],
   "source": [
    "num_qubits"
   ]
  },
  {
   "cell_type": "code",
   "execution_count": 42,
   "metadata": {},
   "outputs": [],
   "source": [
    "# IBMQ.load_account()\n",
    "provider = IBMQ.get_provider(hub='ibm-q')\n",
    "backend = Aer.get_backend(\"qasm_simulator\")\n",
    "device = provider.get_backend(\"ibmq_london\")\n",
    "coupling_map = device.configuration().coupling_map\n",
    "noise_model = noise.device.basic_device_noise_model(device.properties())\n",
    "quantum_instance = QuantumInstance(backend=backend, shots=1000, \n",
    "                                   noise_model=noise_model, \n",
    "                                   coupling_map=coupling_map,\n",
    "                                   measurement_error_mitigation_cls=CompleteMeasFitter,\n",
    "                                   cals_matrix_refresh_period=30,)"
   ]
  },
  {
   "cell_type": "code",
   "execution_count": 43,
   "metadata": {
    "scrolled": true
   },
   "outputs": [
    {
     "name": "stdout",
     "output_type": "stream",
     "text": [
      "Exact Result: -1.865946848303367\n",
      "VQE Result: -1.8402386444337213\n",
      "VQE Result: -1.8462911533074875\n",
      "VQE Result: -1.827556736838582\n",
      "VQE Result: -1.8205726252768444\n",
      "VQE Result: -1.8290236158798592\n",
      "VQE Result: -1.8622559936961787\n",
      "VQE Result: -1.8170452279748976\n",
      "VQE Result: -1.846926776122843\n",
      "VQE Result: -1.834255228907307\n",
      "VQE Result: -1.8459817512580203\n"
     ]
    }
   ],
   "source": [
    "from qiskit.aqua.algorithms import VQE, ExactEigensolver\n",
    "from qiskit.aqua.components.optimizers import COBYLA, SPSA, SLSQP\n",
    "\n",
    "\n",
    "exact_solution = ExactEigensolver(qubit_op).run()\n",
    "print(\"Exact Result:\", exact_solution['energy'])\n",
    "vqe_error = []\n",
    "for i in range(10):\n",
    "    optimizer = SPSA(max_trials=100)\n",
    "    var_form = RYRZ(qubit_op.num_qubits, depth=1, entanglement=\"linear\")\n",
    "    vqe = VQE(qubit_op, var_form, optimizer=optimizer)\n",
    "    ret = vqe.run(quantum_instance)\n",
    "    vqe_error.append(ret)\n",
    "    print(\"VQE Result:\", ret['energy'])"
   ]
  },
  {
   "cell_type": "code",
   "execution_count": 88,
   "metadata": {},
   "outputs": [],
   "source": [
    "custom_diff = np.zeros(10)\n",
    "custom = np.zeros(10)\n",
    "custom_exact = -1.863980204745825\n",
    "for ind, i in enumerate(vqe_error_custom):\n",
    "    custom_diff[ind] = (custom_exact - i['energy'])/custom_exact\n",
    "    custom[ind] = i['energy']\n",
    "\n",
    "sto36_diff = np.zeros(10)\n",
    "sto36 = np.zeros(10)\n",
    "sto36_exact =  -1.8572750302023795\n",
    "for ind, i in enumerate(vqe_error_sto36):\n",
    "    sto36_diff[ind] = (sto36_exact - i['energy'])/sto36_exact\n",
    "    sto36[ind] = i['energy']\n",
    "\n",
    "sto6g_diff = np.zeros(10)\n",
    "sto6g = np.zeros(10)\n",
    "sto6g_exact =  -1.8659468483033668\n",
    "for ind, i in enumerate(vqe_error_sto6g):\n",
    "    sto6g_diff[ind] = (sto6g_exact - i['energy'])/sto6g_exact\n",
    "    sto6g[ind] = i['energy']"
   ]
  },
  {
   "cell_type": "code",
   "execution_count": 64,
   "metadata": {},
   "outputs": [
    {
     "data": {
      "text/plain": [
       "array([[ 0.01453798,  0.00544111,  0.00687241, -0.0070233 ,  0.01528368,\n",
       "        -0.00326263,  0.04470552,  0.00542986,  0.00666537,  0.00976504],\n",
       "       [ 0.01377756,  0.0105339 ,  0.02057406,  0.024317  ,  0.01978793,\n",
       "         0.00197801,  0.0262074 ,  0.01019326,  0.0169842 ,  0.01069971],\n",
       "       [ 0.01381631,  0.02108314,  0.00443019,  0.01252709,  0.00733369,\n",
       "         0.01075318,  0.01224058, -0.002892  , -0.0015054 ,  0.00528824]])"
      ]
     },
     "execution_count": 64,
     "metadata": {},
     "output_type": "execute_result"
    }
   ],
   "source": [
    "np.array((sto36_diff, sto6g_diff, custom_diff)).reshape(3,-1)"
   ]
  },
  {
   "cell_type": "code",
   "execution_count": 91,
   "metadata": {},
   "outputs": [],
   "source": [
    "import pandas as pd\n",
    "df_err = pd.DataFrame({\n",
    "    'Sto-3g':sto36_diff,\n",
    "    'Sto-6g':sto6g_diff,\n",
    "    'Custom':custom_diff\n",
    "})"
   ]
  },
  {
   "cell_type": "code",
   "execution_count": 92,
   "metadata": {},
   "outputs": [],
   "source": [
    "import pandas as pd\n",
    "df_abs = pd.DataFrame({\n",
    "    'Sto-3g':sto36,\n",
    "    'Sto-6g':sto6g,\n",
    "    'Custom':custom\n",
    "})"
   ]
  },
  {
   "cell_type": "code",
   "execution_count": 96,
   "metadata": {},
   "outputs": [
    {
     "data": {
      "image/png": "[encoded data removed]",
      "text/plain": [
       "<Figure size 432x288 with 1 Axes>"
      ]
     },
     "metadata": {
      "needs_background": "light"
     },
     "output_type": "display_data"
    }
   ],
   "source": [
    "plt.figure()\n",
    "sns.boxplot(data=df_abs)\n",
    "plt.xlabel('Basis set', fontsize=16)\n",
    "plt.ylabel('VQE energy', fontsize=16)\n",
    "plt.savefig('energy.svg')\n",
    "plt.show()"
   ]
  },
  {
   "cell_type": "code",
   "execution_count": 97,
   "metadata": {},
   "outputs": [
    {
     "data": {
      "image/png": "[encoded data removed]",
      "text/plain": [
       "<Figure size 432x288 with 1 Axes>"
      ]
     },
     "metadata": {
      "needs_background": "light"
     },
     "output_type": "display_data"
    }
   ],
   "source": [
    "plt.figure()\n",
    "sns.boxplot(data=df)\n",
    "plt.xlabel('Basis set', fontsize=16)\n",
    "plt.ylabel('VQE error', fontsize=16)\n",
    "plt.savefig('error.svg')\n",
    "plt.show()"
   ]
  },
  {
   "cell_type": "markdown",
   "metadata": {},
   "source": [
    "#### Custom basis set\n",
    "Exact Result: -1.863980204745825\n",
    "\n",
    "VQE Result: -1.8610623985692292\n"
   ]
  },
  {
   "cell_type": "markdown",
   "metadata": {},
   "source": [
    "#### sto-6g\n",
    "Exact Result: -1.8659468483033668\n",
    "\n",
    "VQE Result: -1.8278448308106983"
   ]
  },
  {
   "cell_type": "markdown",
   "metadata": {},
   "source": [
    "#### sto-3g\n",
    "Exact Result: -1.8572750302023795\n",
    "\n",
    "VQE Result: -1.820852743190272"
   ]
  },
  {
   "cell_type": "markdown",
   "metadata": {},
   "source": [
    "#### Quantum computer results, 'ibmq_london'"
   ]
  },
  {
   "cell_type": "code",
   "execution_count": 108,
   "metadata": {},
   "outputs": [],
   "source": [
    "results_london_sto6g = {'num_optimizer_evals': 629,\n",
    " 'min_val': -1.0142192398264571,\n",
    " 'opt_params': np.array([ 2.27752398,  0.79634372, -2.51407064, -2.26576987,  1.8153314 ,\n",
    "         0.94964863,  0.67225825, -1.77405256,  2.95903293,  1.14235818,\n",
    "        -2.91578481, -1.75351476,  1.02956838, -1.52793422, -1.71106192,\n",
    "        -2.99411911]),\n",
    " 'eval_time': 18287.572997808456,\n",
    " 'eval_count': 629,\n",
    " 'energy': -1.0142192398264571,\n",
    " 'eigvals': np.array([-1.01421924]),\n",
    " 'min_vector': {'10': 406, '01': 286, '11': 246, '00': 86},\n",
    " 'eigvecs': np.array([{'10': 406, '01': 286, '11': 246, '00': 86}], dtype=object)}"
   ]
  },
  {
   "cell_type": "code",
   "execution_count": 107,
   "metadata": {},
   "outputs": [],
   "source": [
    "results_london_sto3g = {'num_optimizer_evals': 357,\n",
    " 'min_val': -1.408254604138296,\n",
    " 'opt_params': np.array([-1.42989625, -3.01322002, -1.67264651, -1.26385378,  2.53638967,\n",
    "        -2.87994314, -3.13034822,  1.97084416,  1.35331415, -2.59657741,\n",
    "         1.30744208,  2.55582108, -1.00614974, -0.54306608, -1.82895393,\n",
    "        -3.1249087 ]),\n",
    " 'eval_time': 8668.539556264877,\n",
    " 'eval_count': 357,\n",
    " 'energy': -1.408254604138296,\n",
    " 'eigvals': np.array([-1.4082546]),\n",
    " 'min_vector': {'10': 88, '01': 355, '11': 164, '00': 417},\n",
    " 'eigvecs': np.array([{'10': 88, '01': 355, '11': 164, '00': 417}], dtype=object)}"
   ]
  },
  {
   "cell_type": "code",
   "execution_count": null,
   "metadata": {},
   "outputs": [],
   "source": []
  },
  {
   "cell_type": "markdown",
   "metadata": {},
   "source": [
    "### Looking at the circuit and introducing errors."
   ]
  },
  {
   "cell_type": "code",
   "execution_count": 103,
   "metadata": {},
   "outputs": [],
   "source": [
    "device = provider.get_backend('ibmq_london')\n",
    "properties = device.properties()\n",
    "coupling_map = device.configuration().coupling_map"
   ]
  },
  {
   "cell_type": "code",
   "execution_count": 99,
   "metadata": {},
   "outputs": [
    {
     "data": {
      "text/plain": [
       "<qiskit.circuit.instructionset.InstructionSet at 0x7fc017afd5d0>"
      ]
     },
     "execution_count": 99,
     "metadata": {},
     "output_type": "execute_result"
    }
   ],
   "source": [
    "circ = QuantumCircuit(2, 2)\n",
    "circ.u3(3.141592653589793, 0, 3.141592653589793, 0)\n",
    "circ.u3(-1.4298962526954144, 0, 0, 0) \n",
    "circ.u1(-3.0132200242040166, 0) \n",
    "circ.u3(-1.672646508888292, 0, 0, 1) \n",
    "circ.u1(-1.2638537769565306, 1) \n",
    "circ.barrier(0,1) \n",
    "circ.u2(0, 3.141592653589793, 1)\n",
    "circ.cx(0,1)\n",
    "circ.u2(0, 3.141592653589793, 1)\n",
    "circ.barrier(0,1)\n",
    "circ.u3(2.5363896658921723, 0, 0, 0)\n",
    "circ.u1(-2.8799431393126755, 0)\n",
    "circ.u3(-3.1303482114122025, 0, 0, 1)\n",
    "circ.u1(1.9708441602329927, 1)\n",
    "circ.barrier(0,1)\n",
    "circ.u2(0, 3.141592653589793, 1)\n",
    "circ.cx(0, 1)\n",
    "circ.u2(0, 3.141592653589793, 1)\n",
    "circ.barrier(0, 1)\n",
    "circ.u3(1.3533141530874673, 0, 0, 0)\n",
    "circ.u1(-2.5965774125185686, 0)\n",
    "circ.u3(1.3074420802920157, 0, 0, 1)\n",
    "circ.u1(2.5558210812842406, 1)\n",
    "circ.barrier(0,1)\n",
    "circ.u2(0, 3.141592653589793, 1)\n",
    "circ.cx(0, 1)\n",
    "circ.u2(0, 3.141592653589793, 1)\n",
    "circ.barrier(0, 1)\n",
    "circ.u3(-1.0061497415052236, 0, 0, 0)\n",
    "circ.u1(-0.5430660795643898, 0)\n",
    "circ.u3(-1.8289539285225809, 0, 0, 1)\n",
    "circ.u1(-3.1249086977295537, 1)\n",
    "circ.barrier(0, 1)\n",
    "circ.u2(0, 3.141592653589793, 0)\n",
    "circ.barrier(0)\n",
    "circ.u2(0, 3.141592653589793, 1)\n",
    "circ.barrier(1)\n",
    "circ.measure(0, 0)\n",
    "circ.measure(1, 1)"
   ]
  },
  {
   "cell_type": "code",
   "execution_count": 100,
   "metadata": {},
   "outputs": [
    {
     "data": {
      "text/html": [
       "<pre style=\"word-wrap: normal;white-space: pre;background: #fff0;line-height: 1.1;font-family: &quot;Courier New&quot;,Courier,monospace\">          ┌─────────────┐  ┌─────────────────┐┌─────────────┐ ░             »\n",
       "q_0: |0>──┤ U3(pi,0,pi) ├──┤ U3(-1.4299,0,0) ├┤ U1(-3.0132) ├─░─────────────»\n",
       "        ┌─┴─────────────┴─┐└─┬─────────────┬─┘└─────────────┘ ░ ┌──────────┐»\n",
       "q_1: |0>┤ U3(-1.6726,0,0) ├──┤ U1(-1.2639) ├──────────────────░─┤ U2(0,pi) ├»\n",
       "        └─────────────────┘  └─────────────┘                  ░ └──────────┘»\n",
       " c_0: 0 ════════════════════════════════════════════════════════════════════»\n",
       "                                                                            »\n",
       " c_1: 0 ════════════════════════════════════════════════════════════════════»\n",
       "                                                                            »\n",
       "«                       ░  ┌────────────────┐┌─────────────┐ ░             »\n",
       "«q_0: ──■───────────────░──┤ U3(2.5364,0,0) ├┤ U1(-2.8799) ├─░─────────────»\n",
       "«     ┌─┴─┐┌──────────┐ ░ ┌┴────────────────┤└┬────────────┤ ░ ┌──────────┐»\n",
       "«q_1: ┤ X ├┤ U2(0,pi) ├─░─┤ U3(-3.1303,0,0) ├─┤ U1(1.9708) ├─░─┤ U2(0,pi) ├»\n",
       "«     └───┘└──────────┘ ░ └─────────────────┘ └────────────┘ ░ └──────────┘»\n",
       "«c_0: ═════════════════════════════════════════════════════════════════════»\n",
       "«                                                                          »\n",
       "«c_1: ═════════════════════════════════════════════════════════════════════»\n",
       "«                                                                          »\n",
       "«                       ░ ┌────────────────┐┌─────────────┐ ░                  »\n",
       "«q_0: ──■───────────────░─┤ U3(1.3533,0,0) ├┤ U1(-2.5966) ├─░───────────────■──»\n",
       "«     ┌─┴─┐┌──────────┐ ░ ├────────────────┤└┬────────────┤ ░ ┌──────────┐┌─┴─┐»\n",
       "«q_1: ┤ X ├┤ U2(0,pi) ├─░─┤ U3(1.3074,0,0) ├─┤ U1(2.5558) ├─░─┤ U2(0,pi) ├┤ X ├»\n",
       "«     └───┘└──────────┘ ░ └────────────────┘ └────────────┘ ░ └──────────┘└───┘»\n",
       "«c_0: ═════════════════════════════════════════════════════════════════════════»\n",
       "«                                                                              »\n",
       "«c_1: ═════════════════════════════════════════════════════════════════════════»\n",
       "«                                                                              »\n",
       "«                  ░ ┌─────────────────┐┌──────────────┐ ░ ┌──────────┐ ░ ┌─┐»\n",
       "«q_0: ─────────────░─┤ U3(-1.0061,0,0) ├┤ U1(-0.54307) ├─░─┤ U2(0,pi) ├─░─┤M├»\n",
       "«     ┌──────────┐ ░ └┬────────────────┤├─────────────┬┘ ░ ├──────────┤ ░ └╥┘»\n",
       "«q_1: ┤ U2(0,pi) ├─░──┤ U3(-1.829,0,0) ├┤ U1(-3.1249) ├──░─┤ U2(0,pi) ├─░──╫─»\n",
       "«     └──────────┘ ░  └────────────────┘└─────────────┘  ░ └──────────┘ ░  ║ »\n",
       "«c_0: ═════════════════════════════════════════════════════════════════════╩═»\n",
       "«                                                                            »\n",
       "«c_1: ═══════════════════════════════════════════════════════════════════════»\n",
       "«                                                                            »\n",
       "«        \n",
       "«q_0: ───\n",
       "«     ┌─┐\n",
       "«q_1: ┤M├\n",
       "«     └╥┘\n",
       "«c_0: ═╬═\n",
       "«      ║ \n",
       "«c_1: ═╩═\n",
       "«        </pre>"
      ],
      "text/plain": [
       "<qiskit.visualization.text.TextDrawing at 0x7fc017b25c90>"
      ]
     },
     "execution_count": 100,
     "metadata": {},
     "output_type": "execute_result"
    }
   ],
   "source": [
    "circ.draw()"
   ]
  },
  {
   "cell_type": "code",
   "execution_count": 101,
   "metadata": {},
   "outputs": [
    {
     "data": {
      "image/png": "[encoded data removed]",
      "text/plain": [
       "<Figure size 504x360 with 1 Axes>"
      ]
     },
     "execution_count": 101,
     "metadata": {},
     "output_type": "execute_result"
    }
   ],
   "source": [
    "simulator = Aer.get_backend('qasm_simulator')\n",
    "\n",
    "# Execute and get counts\n",
    "result = execute(circ, simulator).result()\n",
    "counts = result.get_counts(circ)\n",
    "plot_histogram(counts, title='Ideal counts for 3-qubit GHZ state')"
   ]
  },
  {
   "cell_type": "code",
   "execution_count": 104,
   "metadata": {},
   "outputs": [
    {
     "name": "stdout",
     "output_type": "stream",
     "text": [
      "NoiseModel:\n",
      "  Basis gates: ['cx', 'id', 'u2', 'u3']\n",
      "  Instructions with noise: ['id', 'cx', 'measure', 'u3', 'u2']\n",
      "  Qubits with noise: [0, 1, 2, 3, 4]\n",
      "  Specific qubit errors: [('id', [0]), ('id', [1]), ('id', [2]), ('id', [3]), ('id', [4]), ('u2', [0]), ('u2', [1]), ('u2', [2]), ('u2', [3]), ('u2', [4]), ('u3', [0]), ('u3', [1]), ('u3', [2]), ('u3', [3]), ('u3', [4]), ('cx', [0, 1]), ('cx', [1, 0]), ('cx', [1, 2]), ('cx', [1, 3]), ('cx', [2, 1]), ('cx', [3, 1]), ('cx', [3, 4]), ('cx', [4, 3]), ('measure', [0]), ('measure', [1]), ('measure', [2]), ('measure', [3]), ('measure', [4])]\n"
     ]
    },
    {
     "name": "stderr",
     "output_type": "stream",
     "text": [
      "/home/jurgis/anaconda3/envs/htvs/lib/python3.7/site-packages/qiskit/providers/aer/noise/device/models.py:114: DeprecationWarning: gate_times kwarg is deprecated and will be removed in a future release. Use gate_lengths kwarg instead.\n",
      "  DeprecationWarning)\n"
     ]
    }
   ],
   "source": [
    "gate_times = [\n",
    "    ('u1', None, 0), ('u2', None, 100), ('u3', None, 200),\n",
    "    ('cx', [1, 0], 678), ('cx', [1, 2], 547), ('cx', [2, 3], 721),\n",
    "    ('cx', [4, 3], 733), ('cx', [4, 10], 721), ('cx', [5, 4], 800),\n",
    "    ('cx', [5, 6], 800), ('cx', [5, 9], 895), ('cx', [6, 8], 895),\n",
    "    ('cx', [7, 8], 640), ('cx', [9, 8], 895), ('cx', [9, 10], 800),\n",
    "    ('cx', [11, 10], 721), ('cx', [11, 3], 634), ('cx', [12, 2], 773),\n",
    "    ('cx', [13, 1], 2286), ('cx', [13, 12], 1504), ('cx', [], 800)\n",
    "]\n",
    "noise_model = noise.device.basic_device_noise_model(properties, gate_times=gate_times)\n",
    "print(noise_model)"
   ]
  },
  {
   "cell_type": "code",
   "execution_count": 105,
   "metadata": {},
   "outputs": [
    {
     "data": {
      "image/png": "[encoded data removed]",
      "text/plain": [
       "<Figure size 504x360 with 1 Axes>"
      ]
     },
     "execution_count": 105,
     "metadata": {},
     "output_type": "execute_result"
    }
   ],
   "source": [
    "# Get the basis gates for the noise model\n",
    "basis_gates = noise_model.basis_gates\n",
    "\n",
    "# Select the QasmSimulator from the Aer provider\n",
    "simulator = Aer.get_backend('qasm_simulator')\n",
    "\n",
    "# Execute noisy simulation and get counts\n",
    "result_noise = execute(circ, simulator, \n",
    "                       noise_model=noise_model,\n",
    "                       coupling_map=coupling_map,\n",
    "                       basis_gates=basis_gates).result()\n",
    "counts_noise = result_noise.get_counts(circ)\n",
    "plot_histogram(counts_noise, title=\"Counts for 3-qubit GHZ state with depolarizing noise model\")"
   ]
  },
  {
   "cell_type": "code",
   "execution_count": null,
   "metadata": {},
   "outputs": [],
   "source": []
  }
 ],
 "metadata": {
  "kernelspec": {
   "display_name": "Python [conda env:htvs] *",
   "language": "python",
   "name": "conda-env-htvs-py"
  },
  "language_info": {
   "codemirror_mode": {
    "name": "ipython",
    "version": 3
   },
   "file_extension": ".py",
   "mimetype": "text/x-python",
   "name": "python",
   "nbconvert_exporter": "python",
   "pygments_lexer": "ipython3",
   "version": "3.7.4"
  }
 },
 "nbformat": 4,
 "nbformat_minor": 2
}
